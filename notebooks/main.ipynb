{
 "cells": [
  {
   "cell_type": "code",
   "execution_count": null,
   "id": "427b1260",
   "metadata": {},
   "outputs": [],
   "source": [
    "print('r�pertoire contenant tous les notebooks r�dig�s.')"
   ]
  }
 ],
 "metadata": {},
 "nbformat": 4,
 "nbformat_minor": 5
}
